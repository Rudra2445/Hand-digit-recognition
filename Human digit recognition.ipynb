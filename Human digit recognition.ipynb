{
 "cells": [
  {
   "cell_type": "markdown",
   "id": "b6e08535",
   "metadata": {},
   "source": [
    "# Importing Libraries"
   ]
  },
  {
   "cell_type": "code",
   "execution_count": 1,
   "id": "fe6674cf",
   "metadata": {},
   "outputs": [],
   "source": [
    "import numpy as np\n",
    "import pandas as pd "
   ]
  },
  {
   "cell_type": "code",
   "execution_count": 2,
   "id": "4cbd5b35",
   "metadata": {},
   "outputs": [],
   "source": [
    "import tensorflow as tf\n",
    "import keras\n",
    "from keras import datasets"
   ]
  },
  {
   "cell_type": "code",
   "execution_count": 3,
   "id": "e7ddb3db",
   "metadata": {},
   "outputs": [
    {
     "data": {
      "text/plain": [
       "<module 'keras.api.datasets' from 'C:\\\\Users\\\\Rudra\\\\AppData\\\\Roaming\\\\Python\\\\Python311\\\\site-packages\\\\keras\\\\api\\\\datasets\\\\__init__.py'>"
      ]
     },
     "execution_count": 3,
     "metadata": {},
     "output_type": "execute_result"
    }
   ],
   "source": [
    "datasets"
   ]
  },
  {
   "cell_type": "code",
   "execution_count": 4,
   "id": "94b59ade",
   "metadata": {},
   "outputs": [],
   "source": [
    "(x_train , y_train) , (x_test , y_test) = datasets.mnist.load_data()"
   ]
  },
  {
   "cell_type": "code",
   "execution_count": 5,
   "id": "5297d6a9",
   "metadata": {},
   "outputs": [
    {
     "data": {
      "text/plain": [
       "array([[[0, 0, 0, ..., 0, 0, 0],\n",
       "        [0, 0, 0, ..., 0, 0, 0],\n",
       "        [0, 0, 0, ..., 0, 0, 0],\n",
       "        ...,\n",
       "        [0, 0, 0, ..., 0, 0, 0],\n",
       "        [0, 0, 0, ..., 0, 0, 0],\n",
       "        [0, 0, 0, ..., 0, 0, 0]],\n",
       "\n",
       "       [[0, 0, 0, ..., 0, 0, 0],\n",
       "        [0, 0, 0, ..., 0, 0, 0],\n",
       "        [0, 0, 0, ..., 0, 0, 0],\n",
       "        ...,\n",
       "        [0, 0, 0, ..., 0, 0, 0],\n",
       "        [0, 0, 0, ..., 0, 0, 0],\n",
       "        [0, 0, 0, ..., 0, 0, 0]],\n",
       "\n",
       "       [[0, 0, 0, ..., 0, 0, 0],\n",
       "        [0, 0, 0, ..., 0, 0, 0],\n",
       "        [0, 0, 0, ..., 0, 0, 0],\n",
       "        ...,\n",
       "        [0, 0, 0, ..., 0, 0, 0],\n",
       "        [0, 0, 0, ..., 0, 0, 0],\n",
       "        [0, 0, 0, ..., 0, 0, 0]],\n",
       "\n",
       "       ...,\n",
       "\n",
       "       [[0, 0, 0, ..., 0, 0, 0],\n",
       "        [0, 0, 0, ..., 0, 0, 0],\n",
       "        [0, 0, 0, ..., 0, 0, 0],\n",
       "        ...,\n",
       "        [0, 0, 0, ..., 0, 0, 0],\n",
       "        [0, 0, 0, ..., 0, 0, 0],\n",
       "        [0, 0, 0, ..., 0, 0, 0]],\n",
       "\n",
       "       [[0, 0, 0, ..., 0, 0, 0],\n",
       "        [0, 0, 0, ..., 0, 0, 0],\n",
       "        [0, 0, 0, ..., 0, 0, 0],\n",
       "        ...,\n",
       "        [0, 0, 0, ..., 0, 0, 0],\n",
       "        [0, 0, 0, ..., 0, 0, 0],\n",
       "        [0, 0, 0, ..., 0, 0, 0]],\n",
       "\n",
       "       [[0, 0, 0, ..., 0, 0, 0],\n",
       "        [0, 0, 0, ..., 0, 0, 0],\n",
       "        [0, 0, 0, ..., 0, 0, 0],\n",
       "        ...,\n",
       "        [0, 0, 0, ..., 0, 0, 0],\n",
       "        [0, 0, 0, ..., 0, 0, 0],\n",
       "        [0, 0, 0, ..., 0, 0, 0]]], dtype=uint8)"
      ]
     },
     "execution_count": 5,
     "metadata": {},
     "output_type": "execute_result"
    }
   ],
   "source": [
    "x_train"
   ]
  },
  {
   "cell_type": "code",
   "execution_count": 6,
   "id": "a165d6cb",
   "metadata": {},
   "outputs": [
    {
     "data": {
      "text/plain": [
       "array([5, 0, 4, ..., 5, 6, 8], dtype=uint8)"
      ]
     },
     "execution_count": 6,
     "metadata": {},
     "output_type": "execute_result"
    }
   ],
   "source": [
    "y_train"
   ]
  },
  {
   "cell_type": "code",
   "execution_count": 7,
   "id": "06594193",
   "metadata": {},
   "outputs": [
    {
     "data": {
      "text/plain": [
       "(60000, 28, 28)"
      ]
     },
     "execution_count": 7,
     "metadata": {},
     "output_type": "execute_result"
    }
   ],
   "source": [
    "x_train.shape\n"
   ]
  },
  {
   "cell_type": "code",
   "execution_count": 8,
   "id": "604166ec",
   "metadata": {},
   "outputs": [
    {
     "data": {
      "text/plain": [
       "(10000, 28, 28)"
      ]
     },
     "execution_count": 8,
     "metadata": {},
     "output_type": "execute_result"
    }
   ],
   "source": [
    "x_test.shape\n"
   ]
  },
  {
   "cell_type": "code",
   "execution_count": 9,
   "id": "bc20e4a5",
   "metadata": {},
   "outputs": [],
   "source": [
    "#Transforming the images into the acceptable size by neural networks\n",
    "width, height = 28,28\n",
    "input_size = (width,height ,1)"
   ]
  },
  {
   "cell_type": "code",
   "execution_count": 10,
   "id": "1fe20c93",
   "metadata": {},
   "outputs": [
    {
     "data": {
      "text/plain": [
       "(28, 28, 1)"
      ]
     },
     "execution_count": 10,
     "metadata": {},
     "output_type": "execute_result"
    }
   ],
   "source": [
    "input_size"
   ]
  },
  {
   "cell_type": "code",
   "execution_count": 11,
   "id": "4be2fb06",
   "metadata": {},
   "outputs": [],
   "source": [
    "x_train = x_train.reshape(x_train.shape[0], height,width, 1)\n",
    "x_test = x_test.reshape(x_test.shape[0], height,width, 1)"
   ]
  },
  {
   "cell_type": "code",
   "execution_count": 12,
   "id": "448153a4",
   "metadata": {},
   "outputs": [
    {
     "data": {
      "text/plain": [
       "((60000, 28, 28, 1), (10000, 28, 28, 1))"
      ]
     },
     "execution_count": 12,
     "metadata": {},
     "output_type": "execute_result"
    }
   ],
   "source": [
    "x_train.shape , x_test.shape"
   ]
  },
  {
   "cell_type": "code",
   "execution_count": 13,
   "id": "338b6418",
   "metadata": {},
   "outputs": [
    {
     "data": {
      "text/plain": [
       "((60000,), (10000,))"
      ]
     },
     "execution_count": 13,
     "metadata": {},
     "output_type": "execute_result"
    }
   ],
   "source": [
    "y_train.shape , y_test.shape"
   ]
  },
  {
   "cell_type": "code",
   "execution_count": 14,
   "id": "810848af",
   "metadata": {},
   "outputs": [],
   "source": [
    "# val represents to validation data \n",
    "# first we validate the data and then we use the final testing data \n",
    "\n",
    "from sklearn.model_selection import train_test_split\n",
    "x_train ,x_val , y_train , y_val = train_test_split(x_train,y_train, test_size=0.1,)"
   ]
  },
  {
   "cell_type": "markdown",
   "id": "3d86737d",
   "metadata": {},
   "source": [
    "###### basically validation is  Used to tune the model's hyperparameters and to provide an unbiased evaluation of a model fit on the training dataset while tuning model hyperparameters."
   ]
  },
  {
   "cell_type": "code",
   "execution_count": 16,
   "id": "1664c9ad",
   "metadata": {},
   "outputs": [
    {
     "data": {
      "text/plain": [
       "(6000, 28, 28, 1)"
      ]
     },
     "execution_count": 16,
     "metadata": {},
     "output_type": "execute_result"
    }
   ],
   "source": [
    "x_val.shape"
   ]
  },
  {
   "cell_type": "code",
   "execution_count": 17,
   "id": "6dac98e0",
   "metadata": {},
   "outputs": [],
   "source": [
    "x_train = (x_train -  x_train.mean())/ x_train.std()\n",
    "x_val = (x_val - x_val.mean())/ x_val.std()\n",
    "x_test = (x_test - x_test.mean())/ x_test.std()"
   ]
  },
  {
   "cell_type": "code",
   "execution_count": 18,
   "id": "30088056",
   "metadata": {},
   "outputs": [
    {
     "data": {
      "text/plain": [
       "array([[[[-0.42428927],\n",
       "         [-0.42428927],\n",
       "         [-0.42428927],\n",
       "         ...,\n",
       "         [-0.42428927],\n",
       "         [-0.42428927],\n",
       "         [-0.42428927]],\n",
       "\n",
       "        [[-0.42428927],\n",
       "         [-0.42428927],\n",
       "         [-0.42428927],\n",
       "         ...,\n",
       "         [-0.42428927],\n",
       "         [-0.42428927],\n",
       "         [-0.42428927]],\n",
       "\n",
       "        [[-0.42428927],\n",
       "         [-0.42428927],\n",
       "         [-0.42428927],\n",
       "         ...,\n",
       "         [-0.42428927],\n",
       "         [-0.42428927],\n",
       "         [-0.42428927]],\n",
       "\n",
       "        ...,\n",
       "\n",
       "        [[-0.42428927],\n",
       "         [-0.42428927],\n",
       "         [-0.42428927],\n",
       "         ...,\n",
       "         [-0.42428927],\n",
       "         [-0.42428927],\n",
       "         [-0.42428927]],\n",
       "\n",
       "        [[-0.42428927],\n",
       "         [-0.42428927],\n",
       "         [-0.42428927],\n",
       "         ...,\n",
       "         [-0.42428927],\n",
       "         [-0.42428927],\n",
       "         [-0.42428927]],\n",
       "\n",
       "        [[-0.42428927],\n",
       "         [-0.42428927],\n",
       "         [-0.42428927],\n",
       "         ...,\n",
       "         [-0.42428927],\n",
       "         [-0.42428927],\n",
       "         [-0.42428927]]],\n",
       "\n",
       "\n",
       "       [[[-0.42428927],\n",
       "         [-0.42428927],\n",
       "         [-0.42428927],\n",
       "         ...,\n",
       "         [-0.42428927],\n",
       "         [-0.42428927],\n",
       "         [-0.42428927]],\n",
       "\n",
       "        [[-0.42428927],\n",
       "         [-0.42428927],\n",
       "         [-0.42428927],\n",
       "         ...,\n",
       "         [-0.42428927],\n",
       "         [-0.42428927],\n",
       "         [-0.42428927]],\n",
       "\n",
       "        [[-0.42428927],\n",
       "         [-0.42428927],\n",
       "         [-0.42428927],\n",
       "         ...,\n",
       "         [-0.42428927],\n",
       "         [-0.42428927],\n",
       "         [-0.42428927]],\n",
       "\n",
       "        ...,\n",
       "\n",
       "        [[-0.42428927],\n",
       "         [-0.42428927],\n",
       "         [-0.42428927],\n",
       "         ...,\n",
       "         [-0.42428927],\n",
       "         [-0.42428927],\n",
       "         [-0.42428927]],\n",
       "\n",
       "        [[-0.42428927],\n",
       "         [-0.42428927],\n",
       "         [-0.42428927],\n",
       "         ...,\n",
       "         [-0.42428927],\n",
       "         [-0.42428927],\n",
       "         [-0.42428927]],\n",
       "\n",
       "        [[-0.42428927],\n",
       "         [-0.42428927],\n",
       "         [-0.42428927],\n",
       "         ...,\n",
       "         [-0.42428927],\n",
       "         [-0.42428927],\n",
       "         [-0.42428927]]],\n",
       "\n",
       "\n",
       "       [[[-0.42428927],\n",
       "         [-0.42428927],\n",
       "         [-0.42428927],\n",
       "         ...,\n",
       "         [-0.42428927],\n",
       "         [-0.42428927],\n",
       "         [-0.42428927]],\n",
       "\n",
       "        [[-0.42428927],\n",
       "         [-0.42428927],\n",
       "         [-0.42428927],\n",
       "         ...,\n",
       "         [-0.42428927],\n",
       "         [-0.42428927],\n",
       "         [-0.42428927]],\n",
       "\n",
       "        [[-0.42428927],\n",
       "         [-0.42428927],\n",
       "         [-0.42428927],\n",
       "         ...,\n",
       "         [-0.42428927],\n",
       "         [-0.42428927],\n",
       "         [-0.42428927]],\n",
       "\n",
       "        ...,\n",
       "\n",
       "        [[-0.42428927],\n",
       "         [-0.42428927],\n",
       "         [-0.42428927],\n",
       "         ...,\n",
       "         [-0.42428927],\n",
       "         [-0.42428927],\n",
       "         [-0.42428927]],\n",
       "\n",
       "        [[-0.42428927],\n",
       "         [-0.42428927],\n",
       "         [-0.42428927],\n",
       "         ...,\n",
       "         [-0.42428927],\n",
       "         [-0.42428927],\n",
       "         [-0.42428927]],\n",
       "\n",
       "        [[-0.42428927],\n",
       "         [-0.42428927],\n",
       "         [-0.42428927],\n",
       "         ...,\n",
       "         [-0.42428927],\n",
       "         [-0.42428927],\n",
       "         [-0.42428927]]],\n",
       "\n",
       "\n",
       "       ...,\n",
       "\n",
       "\n",
       "       [[[-0.42428927],\n",
       "         [-0.42428927],\n",
       "         [-0.42428927],\n",
       "         ...,\n",
       "         [-0.42428927],\n",
       "         [-0.42428927],\n",
       "         [-0.42428927]],\n",
       "\n",
       "        [[-0.42428927],\n",
       "         [-0.42428927],\n",
       "         [-0.42428927],\n",
       "         ...,\n",
       "         [-0.42428927],\n",
       "         [-0.42428927],\n",
       "         [-0.42428927]],\n",
       "\n",
       "        [[-0.42428927],\n",
       "         [-0.42428927],\n",
       "         [-0.42428927],\n",
       "         ...,\n",
       "         [-0.42428927],\n",
       "         [-0.42428927],\n",
       "         [-0.42428927]],\n",
       "\n",
       "        ...,\n",
       "\n",
       "        [[-0.42428927],\n",
       "         [-0.42428927],\n",
       "         [-0.42428927],\n",
       "         ...,\n",
       "         [-0.42428927],\n",
       "         [-0.42428927],\n",
       "         [-0.42428927]],\n",
       "\n",
       "        [[-0.42428927],\n",
       "         [-0.42428927],\n",
       "         [-0.42428927],\n",
       "         ...,\n",
       "         [-0.42428927],\n",
       "         [-0.42428927],\n",
       "         [-0.42428927]],\n",
       "\n",
       "        [[-0.42428927],\n",
       "         [-0.42428927],\n",
       "         [-0.42428927],\n",
       "         ...,\n",
       "         [-0.42428927],\n",
       "         [-0.42428927],\n",
       "         [-0.42428927]]],\n",
       "\n",
       "\n",
       "       [[[-0.42428927],\n",
       "         [-0.42428927],\n",
       "         [-0.42428927],\n",
       "         ...,\n",
       "         [-0.42428927],\n",
       "         [-0.42428927],\n",
       "         [-0.42428927]],\n",
       "\n",
       "        [[-0.42428927],\n",
       "         [-0.42428927],\n",
       "         [-0.42428927],\n",
       "         ...,\n",
       "         [-0.42428927],\n",
       "         [-0.42428927],\n",
       "         [-0.42428927]],\n",
       "\n",
       "        [[-0.42428927],\n",
       "         [-0.42428927],\n",
       "         [-0.42428927],\n",
       "         ...,\n",
       "         [-0.42428927],\n",
       "         [-0.42428927],\n",
       "         [-0.42428927]],\n",
       "\n",
       "        ...,\n",
       "\n",
       "        [[-0.42428927],\n",
       "         [-0.42428927],\n",
       "         [-0.42428927],\n",
       "         ...,\n",
       "         [-0.42428927],\n",
       "         [-0.42428927],\n",
       "         [-0.42428927]],\n",
       "\n",
       "        [[-0.42428927],\n",
       "         [-0.42428927],\n",
       "         [-0.42428927],\n",
       "         ...,\n",
       "         [-0.42428927],\n",
       "         [-0.42428927],\n",
       "         [-0.42428927]],\n",
       "\n",
       "        [[-0.42428927],\n",
       "         [-0.42428927],\n",
       "         [-0.42428927],\n",
       "         ...,\n",
       "         [-0.42428927],\n",
       "         [-0.42428927],\n",
       "         [-0.42428927]]],\n",
       "\n",
       "\n",
       "       [[[-0.42428927],\n",
       "         [-0.42428927],\n",
       "         [-0.42428927],\n",
       "         ...,\n",
       "         [-0.42428927],\n",
       "         [-0.42428927],\n",
       "         [-0.42428927]],\n",
       "\n",
       "        [[-0.42428927],\n",
       "         [-0.42428927],\n",
       "         [-0.42428927],\n",
       "         ...,\n",
       "         [-0.42428927],\n",
       "         [-0.42428927],\n",
       "         [-0.42428927]],\n",
       "\n",
       "        [[-0.42428927],\n",
       "         [-0.42428927],\n",
       "         [-0.42428927],\n",
       "         ...,\n",
       "         [-0.42428927],\n",
       "         [-0.42428927],\n",
       "         [-0.42428927]],\n",
       "\n",
       "        ...,\n",
       "\n",
       "        [[-0.42428927],\n",
       "         [-0.42428927],\n",
       "         [-0.42428927],\n",
       "         ...,\n",
       "         [-0.42428927],\n",
       "         [-0.42428927],\n",
       "         [-0.42428927]],\n",
       "\n",
       "        [[-0.42428927],\n",
       "         [-0.42428927],\n",
       "         [-0.42428927],\n",
       "         ...,\n",
       "         [-0.42428927],\n",
       "         [-0.42428927],\n",
       "         [-0.42428927]],\n",
       "\n",
       "        [[-0.42428927],\n",
       "         [-0.42428927],\n",
       "         [-0.42428927],\n",
       "         ...,\n",
       "         [-0.42428927],\n",
       "         [-0.42428927],\n",
       "         [-0.42428927]]]])"
      ]
     },
     "execution_count": 18,
     "metadata": {},
     "output_type": "execute_result"
    }
   ],
   "source": [
    "x_train"
   ]
  },
  {
   "cell_type": "markdown",
   "id": "194a3d58",
   "metadata": {},
   "source": [
    "##### Categorizing the Y(Labels) training , testing  and validation data"
   ]
  },
  {
   "cell_type": "code",
   "execution_count": 19,
   "id": "bfb5d942",
   "metadata": {},
   "outputs": [
    {
     "data": {
      "text/plain": [
       "array([1, 7, 1, ..., 0, 9, 9], dtype=uint8)"
      ]
     },
     "execution_count": 19,
     "metadata": {},
     "output_type": "execute_result"
    }
   ],
   "source": [
    "y_train"
   ]
  },
  {
   "cell_type": "code",
   "execution_count": 20,
   "id": "84b46faa",
   "metadata": {},
   "outputs": [],
   "source": [
    "num_labels = 10\n",
    "\n",
    "y_train = keras.utils.to_categorical(y_train)"
   ]
  },
  {
   "cell_type": "code",
   "execution_count": 21,
   "id": "a90dfdc8",
   "metadata": {},
   "outputs": [
    {
     "data": {
      "text/plain": [
       "array([[0., 1., 0., ..., 0., 0., 0.],\n",
       "       [0., 0., 0., ..., 1., 0., 0.],\n",
       "       [0., 1., 0., ..., 0., 0., 0.],\n",
       "       ...,\n",
       "       [1., 0., 0., ..., 0., 0., 0.],\n",
       "       [0., 0., 0., ..., 0., 0., 1.],\n",
       "       [0., 0., 0., ..., 0., 0., 1.]])"
      ]
     },
     "execution_count": 21,
     "metadata": {},
     "output_type": "execute_result"
    }
   ],
   "source": [
    "y_train"
   ]
  },
  {
   "cell_type": "code",
   "execution_count": 22,
   "id": "0bc2ec44",
   "metadata": {},
   "outputs": [],
   "source": [
    "y_test = keras.utils.to_categorical(y_test)\n",
    "y_val = keras.utils.to_categorical(y_val)"
   ]
  },
  {
   "cell_type": "markdown",
   "id": "b0b578cd",
   "metadata": {},
   "source": [
    "# Model Buliding"
   ]
  },
  {
   "cell_type": "code",
   "execution_count": 25,
   "id": "30b6075c",
   "metadata": {},
   "outputs": [],
   "source": [
    "from keras.models import Sequential\n",
    "from keras.layers import Dropout , Dense , Flatten , Input , Conv2D ,MaxPooling2D ,AveragePooling2D"
   ]
  },
  {
   "cell_type": "code",
   "execution_count": 31,
   "id": "e53f76cf",
   "metadata": {},
   "outputs": [
    {
     "name": "stderr",
     "output_type": "stream",
     "text": [
      "C:\\Users\\Rudra\\AppData\\Roaming\\Python\\Python311\\site-packages\\keras\\src\\layers\\convolutional\\base_conv.py:107: UserWarning: Do not pass an `input_shape`/`input_dim` argument to a layer. When using Sequential models, prefer using an `Input(shape)` object as the first layer in the model instead.\n",
      "  super().__init__(activity_regularizer=activity_regularizer, **kwargs)\n"
     ]
    }
   ],
   "source": [
    "model = Sequential()\n",
    "\n",
    "model.add(Conv2D(6, kernel_size=(5, 5), strides=(1, 1), activation='tanh', input_shape=(28, 28, 1)))\n",
    "model.add(AveragePooling2D(pool_size=(2, 2), strides=(1, 1)))\n",
    "model.add(Conv2D(16, kernel_size=(5, 5), strides=(1, 1), activation='tanh'))\n",
    "model.add(AveragePooling2D(pool_size=(2, 2), strides=(2, 2)))\n",
    "model.add(Conv2D(120, kernel_size=(5, 5), strides=(1, 1), activation='tanh'))\n",
    "\n",
    "model.add(Flatten())\n",
    "model.add(Dense(84, activation='tanh'))\n",
    "model.add(Dense(num_labels, activation='softmax'))"
   ]
  },
  {
   "cell_type": "code",
   "execution_count": 33,
   "id": "b9b30281",
   "metadata": {},
   "outputs": [
    {
     "data": {
      "text/html": [
       "<pre style=\"white-space:pre;overflow-x:auto;line-height:normal;font-family:Menlo,'DejaVu Sans Mono',consolas,'Courier New',monospace\"><span style=\"font-weight: bold\">Model: \"sequential\"</span>\n",
       "</pre>\n"
      ],
      "text/plain": [
       "\u001b[1mModel: \"sequential\"\u001b[0m\n"
      ]
     },
     "metadata": {},
     "output_type": "display_data"
    },
    {
     "data": {
      "text/html": [
       "<pre style=\"white-space:pre;overflow-x:auto;line-height:normal;font-family:Menlo,'DejaVu Sans Mono',consolas,'Courier New',monospace\">┏━━━━━━━━━━━━━━━━━━━━━━━━━━━━━━━━━┳━━━━━━━━━━━━━━━━━━━━━━━━┳━━━━━━━━━━━━━━━┓\n",
       "┃<span style=\"font-weight: bold\"> Layer (type)                    </span>┃<span style=\"font-weight: bold\"> Output Shape           </span>┃<span style=\"font-weight: bold\">       Param # </span>┃\n",
       "┡━━━━━━━━━━━━━━━━━━━━━━━━━━━━━━━━━╇━━━━━━━━━━━━━━━━━━━━━━━━╇━━━━━━━━━━━━━━━┩\n",
       "│ conv2d (<span style=\"color: #0087ff; text-decoration-color: #0087ff\">Conv2D</span>)                 │ (<span style=\"color: #00d7ff; text-decoration-color: #00d7ff\">None</span>, <span style=\"color: #00af00; text-decoration-color: #00af00\">24</span>, <span style=\"color: #00af00; text-decoration-color: #00af00\">24</span>, <span style=\"color: #00af00; text-decoration-color: #00af00\">6</span>)      │           <span style=\"color: #00af00; text-decoration-color: #00af00\">156</span> │\n",
       "├─────────────────────────────────┼────────────────────────┼───────────────┤\n",
       "│ average_pooling2d               │ (<span style=\"color: #00d7ff; text-decoration-color: #00d7ff\">None</span>, <span style=\"color: #00af00; text-decoration-color: #00af00\">23</span>, <span style=\"color: #00af00; text-decoration-color: #00af00\">23</span>, <span style=\"color: #00af00; text-decoration-color: #00af00\">6</span>)      │             <span style=\"color: #00af00; text-decoration-color: #00af00\">0</span> │\n",
       "│ (<span style=\"color: #0087ff; text-decoration-color: #0087ff\">AveragePooling2D</span>)              │                        │               │\n",
       "├─────────────────────────────────┼────────────────────────┼───────────────┤\n",
       "│ conv2d_1 (<span style=\"color: #0087ff; text-decoration-color: #0087ff\">Conv2D</span>)               │ (<span style=\"color: #00d7ff; text-decoration-color: #00d7ff\">None</span>, <span style=\"color: #00af00; text-decoration-color: #00af00\">19</span>, <span style=\"color: #00af00; text-decoration-color: #00af00\">19</span>, <span style=\"color: #00af00; text-decoration-color: #00af00\">16</span>)     │         <span style=\"color: #00af00; text-decoration-color: #00af00\">2,416</span> │\n",
       "├─────────────────────────────────┼────────────────────────┼───────────────┤\n",
       "│ average_pooling2d_1             │ (<span style=\"color: #00d7ff; text-decoration-color: #00d7ff\">None</span>, <span style=\"color: #00af00; text-decoration-color: #00af00\">9</span>, <span style=\"color: #00af00; text-decoration-color: #00af00\">9</span>, <span style=\"color: #00af00; text-decoration-color: #00af00\">16</span>)       │             <span style=\"color: #00af00; text-decoration-color: #00af00\">0</span> │\n",
       "│ (<span style=\"color: #0087ff; text-decoration-color: #0087ff\">AveragePooling2D</span>)              │                        │               │\n",
       "├─────────────────────────────────┼────────────────────────┼───────────────┤\n",
       "│ conv2d_2 (<span style=\"color: #0087ff; text-decoration-color: #0087ff\">Conv2D</span>)               │ (<span style=\"color: #00d7ff; text-decoration-color: #00d7ff\">None</span>, <span style=\"color: #00af00; text-decoration-color: #00af00\">5</span>, <span style=\"color: #00af00; text-decoration-color: #00af00\">5</span>, <span style=\"color: #00af00; text-decoration-color: #00af00\">120</span>)      │        <span style=\"color: #00af00; text-decoration-color: #00af00\">48,120</span> │\n",
       "├─────────────────────────────────┼────────────────────────┼───────────────┤\n",
       "│ flatten (<span style=\"color: #0087ff; text-decoration-color: #0087ff\">Flatten</span>)               │ (<span style=\"color: #00d7ff; text-decoration-color: #00d7ff\">None</span>, <span style=\"color: #00af00; text-decoration-color: #00af00\">3000</span>)           │             <span style=\"color: #00af00; text-decoration-color: #00af00\">0</span> │\n",
       "├─────────────────────────────────┼────────────────────────┼───────────────┤\n",
       "│ dense (<span style=\"color: #0087ff; text-decoration-color: #0087ff\">Dense</span>)                   │ (<span style=\"color: #00d7ff; text-decoration-color: #00d7ff\">None</span>, <span style=\"color: #00af00; text-decoration-color: #00af00\">84</span>)             │       <span style=\"color: #00af00; text-decoration-color: #00af00\">252,084</span> │\n",
       "├─────────────────────────────────┼────────────────────────┼───────────────┤\n",
       "│ dense_1 (<span style=\"color: #0087ff; text-decoration-color: #0087ff\">Dense</span>)                 │ (<span style=\"color: #00d7ff; text-decoration-color: #00d7ff\">None</span>, <span style=\"color: #00af00; text-decoration-color: #00af00\">10</span>)             │           <span style=\"color: #00af00; text-decoration-color: #00af00\">850</span> │\n",
       "└─────────────────────────────────┴────────────────────────┴───────────────┘\n",
       "</pre>\n"
      ],
      "text/plain": [
       "┏━━━━━━━━━━━━━━━━━━━━━━━━━━━━━━━━━┳━━━━━━━━━━━━━━━━━━━━━━━━┳━━━━━━━━━━━━━━━┓\n",
       "┃\u001b[1m \u001b[0m\u001b[1mLayer (type)                   \u001b[0m\u001b[1m \u001b[0m┃\u001b[1m \u001b[0m\u001b[1mOutput Shape          \u001b[0m\u001b[1m \u001b[0m┃\u001b[1m \u001b[0m\u001b[1m      Param #\u001b[0m\u001b[1m \u001b[0m┃\n",
       "┡━━━━━━━━━━━━━━━━━━━━━━━━━━━━━━━━━╇━━━━━━━━━━━━━━━━━━━━━━━━╇━━━━━━━━━━━━━━━┩\n",
       "│ conv2d (\u001b[38;5;33mConv2D\u001b[0m)                 │ (\u001b[38;5;45mNone\u001b[0m, \u001b[38;5;34m24\u001b[0m, \u001b[38;5;34m24\u001b[0m, \u001b[38;5;34m6\u001b[0m)      │           \u001b[38;5;34m156\u001b[0m │\n",
       "├─────────────────────────────────┼────────────────────────┼───────────────┤\n",
       "│ average_pooling2d               │ (\u001b[38;5;45mNone\u001b[0m, \u001b[38;5;34m23\u001b[0m, \u001b[38;5;34m23\u001b[0m, \u001b[38;5;34m6\u001b[0m)      │             \u001b[38;5;34m0\u001b[0m │\n",
       "│ (\u001b[38;5;33mAveragePooling2D\u001b[0m)              │                        │               │\n",
       "├─────────────────────────────────┼────────────────────────┼───────────────┤\n",
       "│ conv2d_1 (\u001b[38;5;33mConv2D\u001b[0m)               │ (\u001b[38;5;45mNone\u001b[0m, \u001b[38;5;34m19\u001b[0m, \u001b[38;5;34m19\u001b[0m, \u001b[38;5;34m16\u001b[0m)     │         \u001b[38;5;34m2,416\u001b[0m │\n",
       "├─────────────────────────────────┼────────────────────────┼───────────────┤\n",
       "│ average_pooling2d_1             │ (\u001b[38;5;45mNone\u001b[0m, \u001b[38;5;34m9\u001b[0m, \u001b[38;5;34m9\u001b[0m, \u001b[38;5;34m16\u001b[0m)       │             \u001b[38;5;34m0\u001b[0m │\n",
       "│ (\u001b[38;5;33mAveragePooling2D\u001b[0m)              │                        │               │\n",
       "├─────────────────────────────────┼────────────────────────┼───────────────┤\n",
       "│ conv2d_2 (\u001b[38;5;33mConv2D\u001b[0m)               │ (\u001b[38;5;45mNone\u001b[0m, \u001b[38;5;34m5\u001b[0m, \u001b[38;5;34m5\u001b[0m, \u001b[38;5;34m120\u001b[0m)      │        \u001b[38;5;34m48,120\u001b[0m │\n",
       "├─────────────────────────────────┼────────────────────────┼───────────────┤\n",
       "│ flatten (\u001b[38;5;33mFlatten\u001b[0m)               │ (\u001b[38;5;45mNone\u001b[0m, \u001b[38;5;34m3000\u001b[0m)           │             \u001b[38;5;34m0\u001b[0m │\n",
       "├─────────────────────────────────┼────────────────────────┼───────────────┤\n",
       "│ dense (\u001b[38;5;33mDense\u001b[0m)                   │ (\u001b[38;5;45mNone\u001b[0m, \u001b[38;5;34m84\u001b[0m)             │       \u001b[38;5;34m252,084\u001b[0m │\n",
       "├─────────────────────────────────┼────────────────────────┼───────────────┤\n",
       "│ dense_1 (\u001b[38;5;33mDense\u001b[0m)                 │ (\u001b[38;5;45mNone\u001b[0m, \u001b[38;5;34m10\u001b[0m)             │           \u001b[38;5;34m850\u001b[0m │\n",
       "└─────────────────────────────────┴────────────────────────┴───────────────┘\n"
      ]
     },
     "metadata": {},
     "output_type": "display_data"
    },
    {
     "data": {
      "text/html": [
       "<pre style=\"white-space:pre;overflow-x:auto;line-height:normal;font-family:Menlo,'DejaVu Sans Mono',consolas,'Courier New',monospace\"><span style=\"font-weight: bold\"> Total params: </span><span style=\"color: #00af00; text-decoration-color: #00af00\">303,626</span> (1.16 MB)\n",
       "</pre>\n"
      ],
      "text/plain": [
       "\u001b[1m Total params: \u001b[0m\u001b[38;5;34m303,626\u001b[0m (1.16 MB)\n"
      ]
     },
     "metadata": {},
     "output_type": "display_data"
    },
    {
     "data": {
      "text/html": [
       "<pre style=\"white-space:pre;overflow-x:auto;line-height:normal;font-family:Menlo,'DejaVu Sans Mono',consolas,'Courier New',monospace\"><span style=\"font-weight: bold\"> Trainable params: </span><span style=\"color: #00af00; text-decoration-color: #00af00\">303,626</span> (1.16 MB)\n",
       "</pre>\n"
      ],
      "text/plain": [
       "\u001b[1m Trainable params: \u001b[0m\u001b[38;5;34m303,626\u001b[0m (1.16 MB)\n"
      ]
     },
     "metadata": {},
     "output_type": "display_data"
    },
    {
     "data": {
      "text/html": [
       "<pre style=\"white-space:pre;overflow-x:auto;line-height:normal;font-family:Menlo,'DejaVu Sans Mono',consolas,'Courier New',monospace\"><span style=\"font-weight: bold\"> Non-trainable params: </span><span style=\"color: #00af00; text-decoration-color: #00af00\">0</span> (0.00 B)\n",
       "</pre>\n"
      ],
      "text/plain": [
       "\u001b[1m Non-trainable params: \u001b[0m\u001b[38;5;34m0\u001b[0m (0.00 B)\n"
      ]
     },
     "metadata": {},
     "output_type": "display_data"
    }
   ],
   "source": [
    "model.summary()"
   ]
  },
  {
   "cell_type": "code",
   "execution_count": 36,
   "id": "b8c78644",
   "metadata": {},
   "outputs": [],
   "source": [
    "model.compile(loss = keras.losses.categorical_crossentropy, optimizer = 'adam', metrics =['accuracy'])"
   ]
  },
  {
   "cell_type": "code",
   "execution_count": 37,
   "id": "20beac2f",
   "metadata": {},
   "outputs": [
    {
     "name": "stdout",
     "output_type": "stream",
     "text": [
      "Epoch 1/20\n",
      "\u001b[1m1688/1688\u001b[0m \u001b[32m━━━━━━━━━━━━━━━━━━━━\u001b[0m\u001b[37m\u001b[0m \u001b[1m15s\u001b[0m 8ms/step - accuracy: 0.9037 - loss: 0.3173 - val_accuracy: 0.9570 - val_loss: 0.1366\n",
      "Epoch 2/20\n",
      "\u001b[1m1688/1688\u001b[0m \u001b[32m━━━━━━━━━━━━━━━━━━━━\u001b[0m\u001b[37m\u001b[0m \u001b[1m14s\u001b[0m 8ms/step - accuracy: 0.9720 - loss: 0.0925 - val_accuracy: 0.9672 - val_loss: 0.1075\n",
      "Epoch 3/20\n",
      "\u001b[1m1688/1688\u001b[0m \u001b[32m━━━━━━━━━━━━━━━━━━━━\u001b[0m\u001b[37m\u001b[0m \u001b[1m13s\u001b[0m 8ms/step - accuracy: 0.9772 - loss: 0.0735 - val_accuracy: 0.9727 - val_loss: 0.0852\n",
      "Epoch 4/20\n",
      "\u001b[1m1688/1688\u001b[0m \u001b[32m━━━━━━━━━━━━━━━━━━━━\u001b[0m\u001b[37m\u001b[0m \u001b[1m13s\u001b[0m 8ms/step - accuracy: 0.9788 - loss: 0.0694 - val_accuracy: 0.9798 - val_loss: 0.0656\n",
      "Epoch 5/20\n",
      "\u001b[1m1688/1688\u001b[0m \u001b[32m━━━━━━━━━━━━━━━━━━━━\u001b[0m\u001b[37m\u001b[0m \u001b[1m14s\u001b[0m 8ms/step - accuracy: 0.9814 - loss: 0.0593 - val_accuracy: 0.9763 - val_loss: 0.0710\n",
      "Epoch 6/20\n",
      "\u001b[1m1688/1688\u001b[0m \u001b[32m━━━━━━━━━━━━━━━━━━━━\u001b[0m\u001b[37m\u001b[0m \u001b[1m13s\u001b[0m 8ms/step - accuracy: 0.9814 - loss: 0.0587 - val_accuracy: 0.9760 - val_loss: 0.0858\n",
      "Epoch 7/20\n",
      "\u001b[1m1688/1688\u001b[0m \u001b[32m━━━━━━━━━━━━━━━━━━━━\u001b[0m\u001b[37m\u001b[0m \u001b[1m13s\u001b[0m 8ms/step - accuracy: 0.9847 - loss: 0.0539 - val_accuracy: 0.9808 - val_loss: 0.0628\n",
      "Epoch 8/20\n",
      "\u001b[1m1688/1688\u001b[0m \u001b[32m━━━━━━━━━━━━━━━━━━━━\u001b[0m\u001b[37m\u001b[0m \u001b[1m13s\u001b[0m 8ms/step - accuracy: 0.9837 - loss: 0.0506 - val_accuracy: 0.9788 - val_loss: 0.0678\n",
      "Epoch 9/20\n",
      "\u001b[1m1688/1688\u001b[0m \u001b[32m━━━━━━━━━━━━━━━━━━━━\u001b[0m\u001b[37m\u001b[0m \u001b[1m13s\u001b[0m 8ms/step - accuracy: 0.9844 - loss: 0.0496 - val_accuracy: 0.9652 - val_loss: 0.1125\n",
      "Epoch 10/20\n",
      "\u001b[1m1688/1688\u001b[0m \u001b[32m━━━━━━━━━━━━━━━━━━━━\u001b[0m\u001b[37m\u001b[0m \u001b[1m14s\u001b[0m 8ms/step - accuracy: 0.9849 - loss: 0.0494 - val_accuracy: 0.9832 - val_loss: 0.0563\n",
      "Epoch 11/20\n",
      "\u001b[1m1688/1688\u001b[0m \u001b[32m━━━━━━━━━━━━━━━━━━━━\u001b[0m\u001b[37m\u001b[0m \u001b[1m14s\u001b[0m 8ms/step - accuracy: 0.9852 - loss: 0.0482 - val_accuracy: 0.9810 - val_loss: 0.0561\n",
      "Epoch 12/20\n",
      "\u001b[1m1688/1688\u001b[0m \u001b[32m━━━━━━━━━━━━━━━━━━━━\u001b[0m\u001b[37m\u001b[0m \u001b[1m13s\u001b[0m 8ms/step - accuracy: 0.9853 - loss: 0.0483 - val_accuracy: 0.9837 - val_loss: 0.0536\n",
      "Epoch 13/20\n",
      "\u001b[1m1688/1688\u001b[0m \u001b[32m━━━━━━━━━━━━━━━━━━━━\u001b[0m\u001b[37m\u001b[0m \u001b[1m13s\u001b[0m 8ms/step - accuracy: 0.9870 - loss: 0.0419 - val_accuracy: 0.9782 - val_loss: 0.0716\n",
      "Epoch 14/20\n",
      "\u001b[1m1688/1688\u001b[0m \u001b[32m━━━━━━━━━━━━━━━━━━━━\u001b[0m\u001b[37m\u001b[0m \u001b[1m14s\u001b[0m 8ms/step - accuracy: 0.9870 - loss: 0.0427 - val_accuracy: 0.9818 - val_loss: 0.0590\n",
      "Epoch 15/20\n",
      "\u001b[1m1688/1688\u001b[0m \u001b[32m━━━━━━━━━━━━━━━━━━━━\u001b[0m\u001b[37m\u001b[0m \u001b[1m14s\u001b[0m 8ms/step - accuracy: 0.9873 - loss: 0.0428 - val_accuracy: 0.9828 - val_loss: 0.0578\n",
      "Epoch 16/20\n",
      "\u001b[1m1688/1688\u001b[0m \u001b[32m━━━━━━━━━━━━━━━━━━━━\u001b[0m\u001b[37m\u001b[0m \u001b[1m14s\u001b[0m 8ms/step - accuracy: 0.9882 - loss: 0.0410 - val_accuracy: 0.9837 - val_loss: 0.0543\n",
      "Epoch 17/20\n",
      "\u001b[1m1688/1688\u001b[0m \u001b[32m━━━━━━━━━━━━━━━━━━━━\u001b[0m\u001b[37m\u001b[0m \u001b[1m14s\u001b[0m 8ms/step - accuracy: 0.9862 - loss: 0.0428 - val_accuracy: 0.9863 - val_loss: 0.0463\n",
      "Epoch 18/20\n",
      "\u001b[1m1688/1688\u001b[0m \u001b[32m━━━━━━━━━━━━━━━━━━━━\u001b[0m\u001b[37m\u001b[0m \u001b[1m14s\u001b[0m 8ms/step - accuracy: 0.9877 - loss: 0.0394 - val_accuracy: 0.9832 - val_loss: 0.0507\n",
      "Epoch 19/20\n",
      "\u001b[1m1688/1688\u001b[0m \u001b[32m━━━━━━━━━━━━━━━━━━━━\u001b[0m\u001b[37m\u001b[0m \u001b[1m13s\u001b[0m 8ms/step - accuracy: 0.9878 - loss: 0.0379 - val_accuracy: 0.9797 - val_loss: 0.0702\n",
      "Epoch 20/20\n",
      "\u001b[1m1688/1688\u001b[0m \u001b[32m━━━━━━━━━━━━━━━━━━━━\u001b[0m\u001b[37m\u001b[0m \u001b[1m14s\u001b[0m 8ms/step - accuracy: 0.9864 - loss: 0.0420 - val_accuracy: 0.9855 - val_loss: 0.0518\n"
     ]
    }
   ],
   "source": [
    "history = model.fit(x_train, y_train,batch_size=32, epochs = 20, verbose =1 , validation_data=(x_val,y_val))"
   ]
  },
  {
   "cell_type": "code",
   "execution_count": 40,
   "id": "e5e5704a",
   "metadata": {},
   "outputs": [
    {
     "name": "stdout",
     "output_type": "stream",
     "text": [
      "\u001b[1m313/313\u001b[0m \u001b[32m━━━━━━━━━━━━━━━━━━━━\u001b[0m\u001b[37m\u001b[0m \u001b[1m1s\u001b[0m 4ms/step - accuracy: 0.9817 - loss: 0.0528\n"
     ]
    }
   ],
   "source": [
    "score = model.evaluate(x_test,y_test , verbose =1)"
   ]
  },
  {
   "cell_type": "code",
   "execution_count": 41,
   "id": "03ca539d",
   "metadata": {},
   "outputs": [
    {
     "data": {
      "text/plain": [
       "[0.04208749532699585, 0.9861999750137329]"
      ]
     },
     "execution_count": 41,
     "metadata": {},
     "output_type": "execute_result"
    }
   ],
   "source": [
    "score"
   ]
  },
  {
   "cell_type": "code",
   "execution_count": null,
   "id": "27c34d5f",
   "metadata": {},
   "outputs": [],
   "source": []
  }
 ],
 "metadata": {
  "kernelspec": {
   "display_name": "Python 3 (ipykernel)",
   "language": "python",
   "name": "python3"
  },
  "language_info": {
   "codemirror_mode": {
    "name": "ipython",
    "version": 3
   },
   "file_extension": ".py",
   "mimetype": "text/x-python",
   "name": "python",
   "nbconvert_exporter": "python",
   "pygments_lexer": "ipython3",
   "version": "3.11.5"
  }
 },
 "nbformat": 4,
 "nbformat_minor": 5
}
